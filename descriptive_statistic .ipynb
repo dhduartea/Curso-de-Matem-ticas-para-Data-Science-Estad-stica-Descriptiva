{
 "cells": [
  {
   "cell_type": "markdown",
   "metadata": {},
   "source": [
    "# Estadistica Descriptiva para Ciencia de Datos\n",
    "\n",
    "En enfoque de este curso se dará para el correcto manejo de la estadística descriptiva, pero en el entorno de ciencia de datos.\n",
    "\n"
   ]
  },
  {
   "cell_type": "markdown",
   "metadata": {},
   "source": [
    "### Estadística descriptiva vs. Estadística inferencial\n",
    "Es importante entender la diferencia entre las dos principales ramas de la estadística en el area de las matemáticas:\n",
    "\n",
    "- Estadística descriptiva: Se trata de resumir información de manera cuantitativa para entender de forma sencilla y concreta sobre algún determinado asunto\n",
    "- Estadística inferencia: Se basa en realizar inferencias, deducir que podría pasar en el futuro en base a lo datos que tenemos acceso en la actualidad\n",
    "¿Puede mentir la estadística?\n",
    "\n",
    "La estadística descriptiva tiene un problema al momento de definir que métrica es la que nos va a brindar la mayor relevancia para nuestro estudio.\n",
    "\n",
    "El resultado podría estar sesgado a nuestro criterio personal, mostrando mayor interés a un cierto parámetro, dejando de lado a otro que también podría ser relevante. Mostramos solo una cara de la moneda.\n",
    "No existen definiciones objetivas en estadística, sin embargo, sobre estas definiciones podemos realizar cálculos exactos lo cual es un problema\n",
    "Los diferentes estadísticos descriptivos dan nociones diferentes sobre los mismos datos.\n",
    "\n"
   ]
  },
  {
   "cell_type": "markdown",
   "metadata": {},
   "source": [
    "### ¿Por que aprender estadística?\n",
    "\n",
    "A pesar de los problemas que pueda presentar es muy importante entender que la estadística nos puede ayudar a:\n",
    "\n",
    "- Resumir grandes cantidades de información\n",
    "- Tomar mejores decisiones\n",
    "- Responder preguntas con relevancia social\n",
    "- Reconocer patrones en los datos\n",
    "- Descubrir a quien usan estas herramientas con fines nefastos.\n",
    "\n"
   ]
  },
  {
   "cell_type": "markdown",
   "metadata": {},
   "source": [
    "### Flujo de Trabajo\n",
    "El flujo de trabajo del data science esta compuesto de\n",
    "\n",
    "![Flujo de trabajo](https://static.platzi.com/media/user_upload/Untitled-0234c7d9-61c1-4bf4-8550-2f5f8dea9069.jpg)\n",
    "\n",
    "Puede existir profesiones que se enfoquen mas a cada una de fases, no existe un perfil de data science que se encargue a todo el flujo de trabajo.\n",
    "\n",
    "**¿En que partes del flujo de trabajo se necesita de estadística?**\n",
    "\n",
    "Todos las partes del flujo requiere del conocimiento en ciertas ramas de la estadística. La estadística descriptiva se va a emplear más en los dos primeros bloques de trabajo.\n",
    "\n",
    "\n",
    "- **Ingesta de datos y Validación** : Se encarga de todo el procesamiento de ETL (Extract Transform Load) obtener los datos, limpiarlos y estructurarlos, crear pipelines de análisis automatizado, es decir que transformaciones vamos a realizar a los datos para que estén listos para el caso especifico de estudio que vamos a realizar.\n",
    "\n",
    "- **Preparación y entrenamiento del modelo**: En este bloque se va a realizar un análisis exploratorio de los datos con estadística descriptiva, entender correlaciones y realizar posibles reducciones de datos.\n",
    "\n",
    "- **Evaluar el modelo, Producción e Interacción**: esta parte del flujo se basa mas en la estadística inferencial."
   ]
  },
  {
   "cell_type": "markdown",
   "metadata": {},
   "source": [
    "## Plan del curso\n",
    "### ¿Cuál es diferenciador de este curso?\n",
    "\n",
    "Sabemos y tenemos bien claro que la estadística descriptiva es súper común, pero el diferenciador más grande de este curso es que estamos contextualizando la estadística descriptiva específicamente para Ciencia de Datos. No solo vamos a entender las fórmulas matemáticas si no el contexto de la estadística para descubrir todas las caras que tiene.\n",
    "\n",
    "### ¿Cuáles serán los puntos específicos que vamos a tratar en este curso?\n",
    "![Tipos de Datos][tipoDato]\n",
    "\n",
    "- **Primera parte del curso**: Vamos a abordar cuales son los elementos de estadística la descriptiva para la ingesta y el procesamiento de los datos.\n",
    "\n",
    "![Tipos de Datos][Analisis]\n",
    "- **Segunda parte del curso**: Vamos a ver análisis exploratorio de los datos, identificar correlaciones de los datos, abordaremos si a partir de eso podemos reducir el conjunto de datos que necesitamos para un modelo, por ejemplo. Entonces, el objetivo es abordar los estadísticos para exploración y analítica.\n",
    "\n",
    "\n",
    "[tipoDato]: https://user-images.githubusercontent.com/63415652/122623879-806e8b00-d063-11eb-9330-c007c4b68ce0.PNG\n",
    "[Analisis]: https://user-images.githubusercontent.com/63415652/122623878-7ea4c780-d063-11eb-9fe7-9344df6f0569.PNG"
   ]
  },
  {
   "cell_type": "markdown",
   "metadata": {},
   "source": [
    "## Tipos de Variables \n",
    "En el mundo de la estadística, exísten dos tipos de variables, las cuales son categóricas y numéricas:\n",
    "\n",
    "### 1.  Categóricas\n",
    "\n",
    "Las variables categóricas son aquellas que solo tienen un número limitado de posibilidades y como su nombre mejor lo expresa, estas son categorías, este tipo de variable tiene dos subcategorías principales.\n",
    "- Ordinal: Son variables que tienen un orden en sí mismas, como ejemplo pueden ser las notas de una materia: A, B, C, D, F; o también la calificación que le da a un servicio; Muy bueno, bueno, malo, deficiente, entre otras.\n",
    "\n",
    "- Nominales: Para el caso de las variables nominales son aquellas que no tienen un orden en sí misma, pero igual representan una condición, como lo son el género, el medio de pago, la raza, entre otras.\n",
    "### 2.  Numéricas\n",
    "\n",
    "En el caso de las variables numéricas, son aquellas que son representadas por medio de la recta numérica y esta está formada por dos secciones:\n",
    "\n",
    "- Discretas: Estas son representadas por los números enteros, como lo son la edad, cantidad de personas en cierto lugar, entre otras. \n",
    "\n",
    "- Continuas: Este tipo de variable se ubica a lo largo de la recta numérica y puede tomar cualquier valor real, un ejemplo sería, la temperatura, la velocidad de una pelota, el peso, entre otras.\n"
   ]
  },
  {
   "cell_type": "code",
   "execution_count": null,
   "metadata": {},
   "outputs": [],
   "source": []
  }
 ],
 "metadata": {
  "language_info": {
   "name": "python"
  },
  "orig_nbformat": 4
 },
 "nbformat": 4,
 "nbformat_minor": 2
}
